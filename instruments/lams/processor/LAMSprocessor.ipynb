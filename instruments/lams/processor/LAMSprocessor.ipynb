{
 "metadata": {
  "name": "LAMSprocessor"
 },
 "nbformat": 3,
 "nbformat_minor": 0,
 "worksheets": [
  {
   "cells": [
    {
     "cell_type": "heading",
     "level": 1,
     "metadata": {},
     "source": [
      "LAMS Processing: Construct relative wind components from the LAMS measurements"
     ]
    },
    {
     "cell_type": "markdown",
     "metadata": {},
     "source": [
      "This routine reads a netCDF file with the normal data, to which Scott Spuler has added three variables that contain the measurements of airspeed from the three beams of 3D-LAMS. It adds three new variables to that file representing the three relative-wind components as measured by LAMS but translated back to the IRS reference system. These relative-wind components are analogous to the same measurements made by the radome gust system and can be used as alternate measurements of relative wind when constructing the true wind.\n",
      "\n",
      "Note the need to supply the input netCDF file name in code cell #3 below.\n",
      "\n",
      "The processing sequence is as follows:                                                       \n",
      "  1. The conventional measurements are processed by nimbus and output to a netCDF file. That file has the measurements needed to determine the components of the relative wind from the radome gust probe, TASX, the IRS attitude angles, and the CMIGITS attitude angles.       \n",
      "2. Scott uses TASX to determine folding and the histograms recorded by LAMS to determine three velocities, {VA, VB, VC}. which he adds to the netCDF file.   \n",
      "3. This routine reads the reulting netCDF file for the components listed in step 1 and also for A={VA, VB, VC}. It then performs the transformations discussed in this note: 'LAMSprocessing3Dwind.pdf' on the RAF science wiki: http://wiki.eol.ucar.edu/rafscience/LAMS%20Processing?action=AttachFile&do=view&target=LAMSprocessing3Dwind.pdf . Some sections of that memo are reproduced below to indicate how they relate to the segments of the code that follow."
     ]
    },
    {
     "cell_type": "code",
     "collapsed": false,
     "input": [
      "# initialization:\n",
      "import numpy as np    # array manipulations\n",
      "import numpy.ma as ma # masked arrays -- masks used to track and propagate missing values\n",
      "from pylab import *   # included to be able to plot easily. Some plots are generated here.\n",
      "from netCDF4 import Dataset  # used to read and write the netCDF file\n",
      "import os             # for copying netCDF file before changing it\n",
      "import time           # just for timing execution\n",
      "\n",
      "Stime = time.time()\n",
      "localtime = time.asctime( time.localtime(Stime) )\n",
      "print \"Processing started at \", localtime"
     ],
     "language": "python",
     "metadata": {},
     "outputs": [
      {
       "output_type": "stream",
       "stream": "stdout",
       "text": [
        "Processing started at  Mon Oct 14 04:46:35 2013\n"
       ]
      }
     ],
     "prompt_number": 17
    },
    {
     "cell_type": "heading",
     "level": 2,
     "metadata": {},
     "source": [
      "Constants that define the geometry:"
     ]
    },
    {
     "cell_type": "markdown",
     "metadata": {},
     "source": [
      "\n",
      "From Scott Spuler's email of 19 Sept 2013:                        \n",
      "                   \n",
      " \"Here are the distances (in meters) from LAMS C-MIGITS to the three GV IMU locations.  \n",
      "  Coordinates are z-longitudinal (fore is positive), x-horizontal (port is positive), y-vertical (up is positive)\n",
      "\n",
      "     DZ    DX     DY\n",
      "  1  -10.305 6.319  -1.359                                                                                \n",
      "  2  -10.394 7.452  -1.486                                                                                   \n",
      "  3  -10.470 6.319  -1.359                                                  \n",
      "\n",
      "  Also, from the laser tracker survey, the beams theta and phi angles are\n",
      "  A: 34.95 deg, 0.08 deg; \n",
      "  B: 34.96 deg, 119.93 deg; \n",
      "  C: 35.01 deg, -120.08 deg \"   \n",
      "\n",
      "In the 'LL' statement below, I have changed the signs of the distances. These are obviously distances from the IMUs to the CMIGITS."
     ]
    },
    {
     "cell_type": "code",
     "collapsed": false,
     "input": [
      "# The polar and azimuthal angles of the three beams wrt the GV longitudinal axis\n",
      "Theta = np.array ([34.95, 34.96, 35.01]) * np.pi / 180. # values in radians\n",
      "Phi = np.array ([180.08, -60.07, 59.92]) * np.pi / 180. #  \"  \"\n",
      "\n",
      "# blatant fudge:\n",
      "#@@Theta += 0.6 * np.pi / 180.\n",
      "\n",
      "# also need the distances from the IRS to LAMS: (x,y,z)\n",
      "LL = ma.array ([-10.305, -6.319, 1.359])                # see Scott's email, recorded above.\n",
      "# unit vectors along beams are then:\n",
      "#   a[i] = [cos(Theta[i]), -sin(Theta[i])*sin(Phi[i]), sin(Theta[i])*cos(Phi[i])]\n",
      "# and the dot products with the (i,j,k) unit vectors give the direction cosine matrix:\n",
      "S = np.array ([[cos(Theta[0]), -sin(Theta[0])*sin(Phi[0]), sin(Theta[0])*cos(Phi[0])], \\\n",
      "               [cos(Theta[1]), -sin(Theta[1])*sin(Phi[1]), sin(Theta[1])*cos(Phi[1])], \\\n",
      "               [cos(Theta[2]), -sin(Theta[2])*sin(Phi[2]), sin(Theta[2])*cos(Phi[2])]])\n",
      "Si = linalg.inv (S)  # calculate the inverse of S"
     ],
     "language": "python",
     "metadata": {},
     "outputs": [],
     "prompt_number": 18
    },
    {
     "cell_type": "heading",
     "level": 2,
     "metadata": {},
     "source": [
      "Acquire the data from the conventional wind-sensing system"
     ]
    },
    {
     "cell_type": "code",
     "collapsed": false,
     "input": [
      "# 7% of run time\n",
      "# copy the netCDF file to another before opening, to be able to write to the new file\n",
      "#InputFile = 'IDEASGrf04HR'\n",
      "InputFile = 'IDEASGrf04HR25'\n",
      "DataDirectory = '/Data/LAMS/'\n",
      "FullFileName = DataDirectory + InputFile + 'SMS.nc'\n",
      "RevisedFileName = DataDirectory + InputFile + 'WAC.nc'\n",
      "copyCommand = 'cp ' + FullFileName + ' ' + RevisedFileName\n",
      "\n",
      "os.system(copyCommand)\n",
      "#!cp /Data/LAMS/IDEASGrf04SMS.nc /Data/LAMS/IDEASGrf04WAC.nc  # shell command\n",
      "netCDFfile = Dataset (RevisedFileName, 'a')\n",
      "DLEN = len (netCDFfile.dimensions['Time'])\n",
      "\n",
      "# variables from netCDF file needed for processing:\n",
      "varNames = ['TASX', 'THDG', 'PITCH', 'ROLL', 'AKRD', 'SSLIP', 'Time', \\\n",
      "            'CPITCH_LAMS', 'CROLL_LAMS', 'CTHDG_LAMS', 'CVNS_LAMS', 'CVEW_LAMS', 'VSPD', \\\n",
      "#            'BEAM1_speed', 'BEAM2_speed', 'BEAM3_speed']  # -- old names\n",
      "            'Beam1_LAMS', 'Beam2_LAMS', 'Beam3_LAMS']\n",
      "# if any are not found, routine will crash when they are used\n",
      "Vars = []   # set up list used temporarily for transfer to masked arrays\n",
      "for h in varNames:\n",
      "    for v in netCDFfile.variables:\n",
      "        if h == v:\n",
      "            Vars.append (netCDFfile.variables[v][:])\n",
      "            \n",
      "# set up masked arrays with these variables:\n",
      "TASX =       ma.array (Vars[0], fill_value=-32767.)\n",
      "\n",
      "# the following segment is to handle high-rate data, which need to be flattened\n",
      "Shape = netCDFfile.variables['TASX'].shape\n",
      "DL = 1\n",
      "SampleRate = 1\n",
      "if len (Shape) > 1:\n",
      "    SampleRate = Shape[1]\n",
      "for i in range (0, len (Shape)):\n",
      "    DL *= Shape[i]\n",
      "TASX.shape = (DL)\n",
      "\n",
      "THDG =       ma.array (Vars[1].reshape (DL), fill_value=-32767.)\n",
      "PITCH =      ma.array (Vars[2].reshape (DL), fill_value=-32767.)\n",
      "ROLL =       ma.array (Vars[3].reshape (DL), fill_value=-32767.)\n",
      "AKRD =       ma.array (Vars[4].reshape (DL), fill_value=-32767.)\n",
      "SSLIP =      ma.array (Vars[5].reshape (DL), fill_value=-32767.)\n",
      "Time =       ma.array (Vars[6], fill_value=-32767.)  # Time is not high-rate\n",
      "CPITCH =     ma.array (Vars[7].reshape (DL), fill_value=-32767.)\n",
      "CROLL =      ma.array (Vars[8].reshape (DL), fill_value=-32767.)\n",
      "CTHDG =      ma.array (Vars[9].reshape (DL), fill_value=-32767.)\n",
      "VNSC =       ma.array (Vars[10].reshape (DL), fill_value=-32767.)\n",
      "VEWC =       ma.array (Vars[11].reshape (DL), fill_value=-32767.)\n",
      "VSPD =       ma.array (Vars[12].reshape (DL), fill_value=-32767.)\n",
      "BEAM1speed = ma.array (Vars[13].reshape (DL), fill_value=-32767.)\n",
      "BEAM2speed = ma.array (Vars[14].reshape (DL), fill_value=-32767.)\n",
      "BEAM3speed = ma.array (Vars[15].reshape (DL), fill_value=-32767.)\n",
      "BEAM1speed = ma.masked_where (BEAM1speed == -32767., BEAM1speed)\n",
      "BEAM2speed = ma.masked_where (BEAM2speed == -32767., BEAM2speed)\n",
      "BEAM3speed = ma.masked_where (BEAM3speed == -32767., BEAM3speed)\n",
      "CTHDG = ma.masked_where (CTHDG == -32767., CTHDG)\n",
      "\n",
      "#Fctr = 1.005    # alternately, theta=35.4 deg\n",
      "# see above definition of theta; have introduced this change there instead.\n",
      "# Don't uncomment these without considering if the theta fudge is still there\n",
      "#BEAM1speed *= Fctr\n",
      "#BEAM2speed *= Fctr\n",
      "#BEAM3speed *= Fctr\n",
      "\n",
      "# special masked regions in IDEASG rf04 50Hz, where CTHDG oscillates while going through 180 deg.\n",
      "#CTHDG[8680+250000:8780+250000] = ma.masked\n",
      "#CTHDG[18150+250000:18250+250000] = ma.masked\n",
      "#CTHDG[38310+250000:38410+250000] = ma.masked\n",
      "#CTHDG[48160+250000:48260+250000] = ma.masked"
     ],
     "language": "python",
     "metadata": {},
     "outputs": [],
     "prompt_number": 19
    },
    {
     "cell_type": "code",
     "collapsed": false,
     "input": [
      "# advance CROLL, CPITCH, CTHDG by N 25-Hz samples\n",
      "if DL/DLEN == 25:\n",
      "    N = 0  # set this to advance (positive) or delay (negative) the sequences\n",
      "    if N > 0:\n",
      "        CROLL = np.append (CROLL, N*[0])\n",
      "        CROLL = np.delete (CROLL, arange(0,N))\n",
      "        CPITCH = np.append (CPITCH, N*[0])\n",
      "        CPITCH = np.delete (CPITCH, arange(0,N))\n",
      "        CTHDG = np.append (CTHDG, N*[0])\n",
      "        CTHDG = np.delete (CTHDG, arange(0,N))\n",
      "    if N < 0:\n",
      "        N *= -1 \n",
      "        CROLL = np.insert (CROLL, 0, N*[CROLL[0]])\n",
      "        CROLL = np.delete (CROLL, arange(DL-N,DL))\n",
      "        CPITCH = np.insert (CPITCH, 0, N*[CPITCH[0]])\n",
      "        CPITCH = np.delete (CPITCH, arange(DL-N,DL))\n",
      "        CTHDG = np.insert (CTHDG, 0, N*[CTHDG[0]])\n",
      "        CTHDG = np.delete (CTHDG, arange(DL-N,DL))\n",
      "\n",
      "# advance VNSC and VEWC by N samples;\n",
      "    N = 0  # set this to the advance (+ve) or delay (-ve) needed\n",
      "#@@    N = 2\n",
      "    if N > 0:\n",
      "        VNSC = np.append (VNSC, N*[0])\n",
      "        VEWC = np.append (VEWC, N*[0])\n",
      "        VNSC = np.delete (VNSC, arange(0,N))\n",
      "        VEWC = np.delete (VEWC, arange(0,N))\n",
      "    if N < 0:\n",
      "        N *= -1\n",
      "        VNSC = np.insert (VNSC, 0, N*[VNSC[0]])\n",
      "        VEWC = np.insert (VEWC, 0, N*[VEWC[0]])\n",
      "        VNSC = np.delete (VNSC, arange (DL-N,DL))\n",
      "        VEWC = np.delete (VEWC, arange (DL-N,DL))\n",
      "  \n",
      "# arrays used in setting up rotation matrices\n",
      "Z =   ma.zeros (DL)\n",
      "One = ma.ones (DL)\n",
      "\n",
      "print 'Have data in python arrays at', time.time () - Stime, ' s'"
     ],
     "language": "python",
     "metadata": {},
     "outputs": [
      {
       "output_type": "stream",
       "stream": "stdout",
       "text": [
        "Have data in python arrays at 2.16333198547  s\n"
       ]
      }
     ],
     "prompt_number": 20
    },
    {
     "cell_type": "heading",
     "level": 2,
     "metadata": {},
     "source": [
      "Retrieve the conventional relative wind "
     ]
    },
    {
     "cell_type": "code",
     "collapsed": false,
     "input": [
      "# Construct the relative-wind array, a DL x 3 array with\n",
      "# first dimension the time index and 2nd components u,v,w. This\n",
      "# is the relative wind as measured by the radome and pitot-tube system.\n",
      "# It is included here to be able to compare to the corresponding LAMS results\n",
      "UR = TASX\n",
      "VR = TASX * ma.tan (SSLIP * pi/180.)\n",
      "WR = TASX * ma.tan (AKRD * pi/180.)\n",
      "\n",
      "# relative-wind array: RWR as measured by radome gust system\n",
      "RWR = transpose (ma.array([UR,VR,WR], fill_value=-32767.))\n",
      "print 'Have radome-based relative wind array at ', time.time () - Stime, ' s'"
     ],
     "language": "python",
     "metadata": {},
     "outputs": [
      {
       "output_type": "stream",
       "stream": "stdout",
       "text": [
        "Have radome-based relative wind array at  4.12684702873  s\n"
       ]
      }
     ],
     "prompt_number": 21
    },
    {
     "cell_type": "heading",
     "level": 2,
     "metadata": {},
     "source": [
      "Get the rotation-rate array for use below"
     ]
    },
    {
     "cell_type": "markdown",
     "metadata": {},
     "source": [
      "Bulletin 23 gives the expected addition to the relative wind $\\vec{v}_a$ caused by rotation: \n",
      "\n",
      "$$\\hskip2in \\vec{v}_a^\\prime=\\vec{v}_a+\\vec{\\Omega}_p\\times\\vec{R}$$\n",
      "\n",
      "where $\\vec{\\Omega}_{p}$ is the angular rotation rate or angular velocity of the aircraft.\n",
      "Here $\\vec{R}$ is the vector from the aircraft reference location at the IRS to the LAMS, \n",
      "represented by the location of the CMIGITS.\n"
     ]
    },
    {
     "cell_type": "code",
     "collapsed": false,
     "input": [
      "# get rotation-rate-vector array:\n",
      "Cradeg = pi / 180.  # convert to radians from degrees \n",
      "Omega = ma.array ([ROLL, PITCH, THDG], fill_value = -32767.) * Cradeg\n",
      "Omega = np.diff (Omega.T, axis=0)                 # this differentiates step-wise to get the rotation rates\n",
      "Omega[:,2][Omega[:,2] > pi] -= 2.*pi              # handle where THDG goes through 360 degrees\n",
      "Omega[:,2][Omega[:,2] < -pi] += 2.*pi\n",
      "Omega *= SampleRate\n",
      "Omega = np.append (Omega, ma.zeros((1,3)), axis=0) # to match dimensions of other arrays\n",
      "\n",
      "# get false contribution to relative wind from rotation:\n",
      "F = ma.array (np.cross (Omega, LL), fill_value=-32767.)\n",
      "print 'Rotation-rate correction generated at ', time.time () - Stime, ' s'"
     ],
     "language": "python",
     "metadata": {},
     "outputs": [
      {
       "output_type": "stream",
       "stream": "stdout",
       "text": [
        "Rotation-rate correction generated at  4.30131006241  s\n"
       ]
      }
     ],
     "prompt_number": 22
    },
    {
     "cell_type": "heading",
     "level": 2,
     "metadata": {},
     "source": [
      "Transform relative wind to the Earth-reference system:"
     ]
    },
    {
     "cell_type": "markdown",
     "metadata": {},
     "source": [
      "For a description of the procedure that follows, see 'LAMSprocessing3Dwind.pdf' on the RAF science wiki: http://wiki.eol.ucar.edu/rafscience/LAMS%20Processing?action=AttachFile&do=view&target=LAMSprocessing3Dwind.pdf . "
     ]
    },
    {
     "cell_type": "heading",
     "level": 3,
     "metadata": {},
     "source": [
      "Get the three-beam measurements of airspeed:"
     ]
    },
    {
     "cell_type": "code",
     "collapsed": false,
     "input": [
      "A = transpose (ma.array ([BEAM1speed, BEAM2speed, BEAM3speed], fill_value=-32767.))"
     ],
     "language": "python",
     "metadata": {},
     "outputs": [
      {
       "output_type": "stream",
       "stream": "stdout",
       "text": [
        "Load 3-beam measurements at  4.4416539669  s\n"
       ]
      }
     ],
     "prompt_number": 23
    },
    {
     "cell_type": "heading",
     "level": 3,
     "metadata": {},
     "source": [
      "Get the u,v,w components at LAMS and correct for rotation rate:"
     ]
    },
    {
     "cell_type": "code",
     "collapsed": false,
     "input": [
      "RW = transpose (ma.dot (Si, A.T)) - F  # F is the rotation-rate correction"
     ],
     "language": "python",
     "metadata": {},
     "outputs": [
      {
       "output_type": "stream",
       "stream": "stdout",
       "text": [
        "Transformed to relative-wind components at  4.5843539238  s\n"
       ]
      }
     ],
     "prompt_number": 24
    },
    {
     "cell_type": "heading",
     "level": 3,
     "metadata": {},
     "source": [
      "Rotate to the Earth-reference system:"
     ]
    },
    {
     "cell_type": "markdown",
     "metadata": {},
     "source": [
      "If {$\\phi$, $\\theta$, $\\psi$} are respectively roll, pitch, and heading, the needed transformation matrices are:\n",
      "\n",
      "\n",
      "$$\\hskip2in T_1=\\left(\\begin{array}{ccc}1 & 0 & 0\\\\\\0 & \\cos\\phi & -\\sin\\phi\\\\\\0 & \\sin\\phi & \\cos\\phi\\end{array}\\right)$$\n",
      "\n",
      "$$\\hskip2in T_2=\\left(\\begin{array}{ccc}\\cos\\theta & 0 & \\sin\\theta\\\\\\0 & 1 & 0\\\\\\ -\\sin\\theta & 0 & \\cos\\theta\\end{array}\\right)$$\n",
      "\n",
      "$$\\hskip2in T_3=\\left(\\begin{array}{ccc}\\cos\\psi & -\\sin\\psi & 0\\\\\\sin\\psi & \\cos\\psi & 0\\\\\\0 & 0 & 1\\end{array}\\right)$$\n"
     ]
    },
    {
     "cell_type": "code",
     "collapsed": false,
     "input": [
      "# first, correct for an assumed misalignment between the LAMS and CMIGITS reference frames\n",
      "#@@CR = ma.ones (DL) * (2.) * Cradeg \n",
      "CR = ma.ones (DL) * (0.) * Cradeg \n",
      "CP = ma.ones (DL) * 0. * Cradeg\n",
      "#@@CH = ma.ones (DL) * 0.3 * Cradeg\n",
      "CH = ma.ones (DL) * 0.0 * Cradeg\n",
      "T1 = ma.array ([One,Z,Z, Z,cos(CR),-sin(CR), Z,sin(CR),cos(CR)])  # rotation about x\n",
      "T2 = ma.array ([cos(CP),Z,sin(CP), Z,One,Z, -sin(CP),Z,cos(CP)])  # rotation about y\n",
      "T3 = ma.array ([cos(CH),-sin(CH),Z, sin(CH),cos(CH),Z, Z,Z,One])  # rotation about z\n",
      "T1.shape = (3,3,len(CH))\n",
      "T2.shape = (3,3,len(CH))\n",
      "T3.shape = (3,3,len(CH))\n",
      "for i in range (0,DL):\n",
      "    RW[i,:] = ma.dot (T3[...,i], ma.dot (T2[...,i], ma.dot (T1[...,i], RW[i,:])))\n",
      "print 'Rotated relative wind to assumed CMIGITS reference frame at ', time.time () - Stime, ' s'"
     ],
     "language": "python",
     "metadata": {},
     "outputs": [
      {
       "output_type": "stream",
       "stream": "stdout",
       "text": [
        "Rotated relative wind to assumed CMIGITS reference frame at  48.9248039722  s\n"
       ]
      }
     ],
     "prompt_number": 25
    },
    {
     "cell_type": "code",
     "collapsed": false,
     "input": [
      "# 5% of run time\n",
      "#RWT = np.dot (T3, np.dot(T2, np.dot(T1, RW))) -- I wish! Try later to get an array statement to work\n",
      "RWT = ma.empty (shape (RW))\n",
      "CR = CROLL * Cradeg\n",
      "CP = CPITCH * Cradeg\n",
      "CH = CTHDG * Cradeg\n",
      "T1 = ma.array ([One,Z,Z, Z,cos(CR),-sin(CR), Z,sin(CR),cos(CR)])  # rotation about x\n",
      "T2 = ma.array ([cos(CP),Z,sin(CP), Z,One,Z, -sin(CP),Z,cos(CP)])  # rotation about y\n",
      "T3 = ma.array ([cos(CH),-sin(CH),Z, sin(CH),cos(CH),Z, Z,Z,One])  # rotation about z\n",
      "T1.shape = (3,3,len(CR))\n",
      "T2.shape = (3,3,len(CP))\n",
      "T3.shape = (3,3,len(CH))\n",
      "for i in range (0,DL):\n",
      "    RWT[i,:] = ma.dot (T3[...,i], ma.dot (T2[...,i], ma.dot (T1[...,i], RW[i,:])))\n",
      "print 'Rotated relative wind to Earth reference frame at ', time.time () - Stime, ' s'\n",
      " "
     ],
     "language": "python",
     "metadata": {},
     "outputs": [
      {
       "output_type": "stream",
       "stream": "stdout",
       "text": [
        "Rotated relative wind to Earth reference frame at  94.3968160152  s\n"
       ]
      }
     ],
     "prompt_number": 26
    },
    {
     "cell_type": "heading",
     "level": 2,
     "metadata": {},
     "source": [
      "Find the wind in the Earth reference frame:"
     ]
    },
    {
     "cell_type": "markdown",
     "metadata": {},
     "source": [
      "RWT is now the relative wind in the earth reference frame, but still with {x,y,z} {north, east, down}.\n",
      "These components can now be used to find the Earth-relative wind by subtracting from them the\n",
      "corresponding velocity components of the aircraft, {VNSC, VEWC, VSPD}. Subtraction is needed\n",
      "because wind is characterized by the direction ${\\bf from\\ which}$ the wind blows, while the\n",
      "aircraft motion is characterized by motion toward the corresponding direction. Subtracting the\n",
      "aircraft velocity then gives\n",
      "\n",
      "        (-air motion wrt Earth) = (-air motion wrt aircraft) - (aircraft motion wrt Earth)\n",
      "\n",
      "        (Earth-relative wind)   = (LAMS-measured wind)       - (aircraft motion wrt Earth)\n",
      "\n",
      "For the vertical wind: positive is upward and LAMS measures positive upward as positive incoming along the downward-pointing z axis. \n",
      "Upward motion of the aircraft should be $\\underline{added}$ to this, so the sign of VSPD must be reversed:"
     ]
    },
    {
     "cell_type": "code",
     "collapsed": false,
     "input": [
      "   \n",
      "RWG = RWT  # relative wind wrt ground; save for use later\n",
      "GWA = transpose (ma.array([VNSC, VEWC, -1.*VSPD], fill_value=-32767.))\n",
      "GW = RWG - GWA\n",
      "print 'Have Earth-relative wind at ', time.time () - Stime, ' s'"
     ],
     "language": "python",
     "metadata": {},
     "outputs": [
      {
       "output_type": "stream",
       "stream": "stdout",
       "text": [
        "Have Earth-relative wind at  94.460627079  s\n"
       ]
      }
     ],
     "prompt_number": 27
    },
    {
     "cell_type": "heading",
     "level": 2,
     "metadata": {},
     "source": [
      "Transform LAMS-relative wind to the aircraft reference frame:"
     ]
    },
    {
     "cell_type": "markdown",
     "metadata": {},
     "source": [
      "For direct comparison to relative wind in the aircraft (Honeywell) reference frame, transform back to that frame. For this transformation, the signs of the attitude angles are reversed and the order in which the rotations is applied is also reversed. \n",
      "\n",
      "This section is not needed to get Earth-relative wind, so later it can be omitted. This is useful in the development stage, though."
     ]
    },
    {
     "cell_type": "code",
     "collapsed": false,
     "input": [
      "# 5% of run time -- skip later if not needed to just get wind\n",
      "CR = -1. * ROLL * Cradeg    # negative sign because now doing the transform in the reverse direction\n",
      "CP = -1. * PITCH * Cradeg\n",
      "CH = -1. * THDG * Cradeg\n",
      "T1 = ma.array ([One,Z,Z, Z,cos(CR),-sin(CR), Z,sin(CR),cos(CR)])  # rotation about x\n",
      "T2 = ma.array ([cos(CP),Z,sin(CP), Z,One,Z, -sin(CP),Z,cos(CP)])  # rotation about y\n",
      "T3 = ma.array ([cos(CH),-sin(CH),Z, sin(CH),cos(CH),Z, Z,Z,One])  # rotation about z\n",
      "T1.shape = (3,3,len(CR))\n",
      "T2.shape = (3,3,len(CP))\n",
      "T3.shape = (3,3,len(CH))\n",
      "for i in range (0,DL):  # note reversal in order of transformations\n",
      "    RWT[i,:] = ma.dot (T1[...,i], ma.dot (T2[...,i], ma.dot (T3[...,i], RWT[i,:])))\n",
      "print 'Transformed back to aircraft reference frame at ', time.time () - Stime, ' s'"
     ],
     "language": "python",
     "metadata": {},
     "outputs": [
      {
       "output_type": "stream",
       "stream": "stdout",
       "text": [
        "Transformed back to aircraft reference frame at  138.38704896  s\n"
       ]
      }
     ],
     "prompt_number": 28
    },
    {
     "cell_type": "heading",
     "level": 2,
     "metadata": {},
     "source": [
      "Create the netCDF variables and write the file"
     ]
    },
    {
     "cell_type": "code",
     "collapsed": false,
     "input": [
      "# 17% of run time at 50 Hz\n",
      "# create new netCDF variables for {u,v,w} and for {WD, WS, WI}:\n",
      "if len (Shape) < 2:\n",
      "    ULAMSCDF = netCDFfile.createVariable ('U_LAMS', 'f4', ('Time'), fill_value=-32767.)\n",
      "    VLAMSCDF = netCDFfile.createVariable ('V_LAMS', 'f4', ('Time'), fill_value=-32767.)\n",
      "    WLAMSCDF = netCDFfile.createVariable ('W_LAMS', 'f4', ('Time'), fill_value=-32767.)\n",
      "    WDLAMSCDF = netCDFfile.createVariable ('WD_LAMS', 'f4', ('Time'), fill_value=-32767.)\n",
      "    WSLAMSCDF = netCDFfile.createVariable ('WS_LAMS', 'f4', ('Time'), fill_value=-32767.)\n",
      "    WILAMSCDF = netCDFfile.createVariable ('WI_LAMS', 'f4', ('Time'), fill_value=-32767.)\n",
      "else:  \n",
      "    HRdim = DL / DLEN\n",
      "    HRdimName = 'sps' + format (HRdim, 'd')\n",
      "    ULAMSCDF = netCDFfile.createVariable ('U_LAMS', 'f4', ('Time', HRdimName), fill_value=-32767.)\n",
      "    VLAMSCDF = netCDFfile.createVariable ('V_LAMS', 'f4', ('Time', HRdimName), fill_value=-32767.)\n",
      "    WLAMSCDF = netCDFfile.createVariable ('W_LAMS', 'f4', ('Time', HRdimName), fill_value=-32767.)\n",
      "    WDLAMSCDF = netCDFfile.createVariable ('WD_LAMS', 'f4', ('Time', HRdimName), fill_value=-32767.)\n",
      "    WSLAMSCDF = netCDFfile.createVariable ('WS_LAMS', 'f4', ('Time', HRdimName), fill_value=-32767.)\n",
      "    WILAMSCDF = netCDFfile.createVariable ('WI_LAMS', 'f4', ('Time', HRdimName), fill_value=-32767.)\n",
      "print 'Created new netCDF variables at ', time.time () - Stime, ' s'"
     ],
     "language": "python",
     "metadata": {},
     "outputs": [
      {
       "output_type": "stream",
       "stream": "stdout",
       "text": [
        "Created new netCDF variables at  140.599976063  s\n"
       ]
      }
     ],
     "prompt_number": 29
    },
    {
     "cell_type": "code",
     "collapsed": false,
     "input": [
      "# 61% of total run time is spend in this cell, so consider a better way to define these attributes?\n",
      "# for test runs, change this cell to 'raw text' to suppress execution\n",
      "#add attributes\n",
      "# 61% of total run time is spend in this cell, so consider a better way to define these attributes?\n",
      "# for test runs, change this cell to 'raw text' to suppress execution\n",
      "ULAMSCDF.units = 'm/s'\n",
      "WLAMSCDF.units = 'm/s'\n",
      "WLAMSCDF.units = 'm/s'\n",
      "WDLAMSCDF.units = 'degrees wrt true north'\n",
      "WSLAMSCDF.units = 'm/s'\n",
      "WILAMSCDF.units = 'm/s'\n",
      "ULAMSCDF.long_name = 'LAMS-derived longitudinal component of the relative wind (from ahead)'\n",
      "VLAMSCDF.long_name = 'LAMS-derived lateral component of the relative wind (from starboard)'\n",
      "WLAMSCDF.long_name = 'LAMS-derived vertical component of the relative wind (from below)'\n",
      "WDLAMSCDF.long_name = 'LAMS-derived wind direction from true north'\n",
      "WSLAMSCDF.long_name = 'LAMS-derived wind speed)'\n",
      "WILAMSCDF.long_name = 'LAMS-derived vertical wind'\n",
      "ULAMSCDF.standard_name = 'u from LAMS'\n",
      "VLAMSCDF.standard_name = 'v from LAMS'\n",
      "WLAMSCDF.standard_name = 'w from LAMS'\n",
      "WSLAMSCDF.standard_name = 'WD_LAMS'\n",
      "WDLAMSCDF.standard_name = 'WS_LAMS'\n",
      "WILAMSCDF.standard_name = 'WI_LAMS'\n",
      "#print (RWT[0,np.unravel_index (RWT[0,:].argmax (), RWT[0,:].shape)])\n",
      "\n",
      "# is actual_range attribute needed? Present for normal nimbus-generated\n",
      "# variables, but not supplied here\n",
      "ULAMSCDF.Category = 'Winds'\n",
      "VLAMSCDF.Category = 'Winds'\n",
      "WLAMSCDF.Category = 'Winds'\n",
      "WDLAMSCDF.Category = 'Winds'\n",
      "WSLAMSCDF.Category = 'Winds'\n",
      "WILAMSCDF.Category = 'Winds'\n",
      "ULAMSCDF.DataQuality = 'Preliminary'\n",
      "VLAMSCDF.DataQuality = 'Preliminary'\n",
      "WLAMSCDF.DataQuality = 'Preliminary'\n",
      "WDLAMSCDF.DataQuality = 'Preliminary'\n",
      "WSLAMSCDF.DataQuality = 'Preliminary'\n",
      "WILAMSCDF.DataQuality = 'Preliminary'\n",
      "ULAMSCDF.Dependencies = '9 BEAM1speed BEAM2speed BEAM3speed ROLL PITCH THDG CROLL_LAMS CPITCH_LAMS CTHDG_LAMS'\n",
      "VLAMSCDF.Dependencies = '9 BEAM1speed BEAM2speed BEAM3speed ROLL PITCH THDG CROLL_LAMS CPITCH_LAMS CTHDG_LAMS'\n",
      "WLAMSCDF.Dependencies = '9 BEAM1speed BEAM2speed BEAM3speed ROLL PITCH THDG CROLL_LAMS CPITCH_LAMS CTHDG_LAMS'\n",
      "WDLAMSCDF.Dependencies = '11 BEAM1speed BEAM2speed BEAM3speed ROLL PITCH THDG CROLL_LAMS CPITCH_LAMS CTHDG_LAMS VNSC VEWC'\n",
      "WSLAMSCDF.Dependencies = '11 BEAM1speed BEAM2speed BEAM3speed ROLL PITCH THDG CROLL_LAMS CPITCH_LAMS CTHDG_LAMS VNSC VEWC'\n",
      "WILAMSCDF.Dependencies = '10 BEAM1speed BEAM2speed BEAM3speed ROLL PITCH THDG CROLL_LAMS CPITCH_LAMS CTHDG_LAMS VSPD'\n",
      "print 'Created netcdf attributes at ', time.time () - Stime, ' s'"
     ],
     "language": "python",
     "metadata": {},
     "outputs": [
      {
       "output_type": "stream",
       "stream": "stdout",
       "text": [
        "Created netcdf attributes at  155.623220921  s\n"
       ]
      }
     ],
     "prompt_number": 30
    },
    {
     "cell_type": "code",
     "collapsed": false,
     "input": [
      "# 4% of run time in getting ready to write; negligible time in 'close' statement\n",
      "# put the unmasked data in the netCDF file, with masked values replaced by -32767.\n",
      "RWT.mask[:,0] |= BEAM1speed.mask\n",
      "GW.mask[:,0]  |= BEAM1speed.mask\n",
      "RWT.mask[:,1] |= BEAM2speed.mask\n",
      "GW.mask[:,1]  |= BEAM2speed.mask\n",
      "RWT.mask[:,2] |= BEAM3speed.mask\n",
      "GW.mask[:,2]  |= BEAM3speed.mask\n",
      "Hdiff = CTHDG - THDG\n",
      "Hdiff[Hdiff > 180.] -= 360.\n",
      "Hdiff[Hdiff < -180.] += 360.\n",
      "Hdiff = abs (Hdiff)\n",
      "RWT.mask[:,0] |= (Hdiff > 5.)    # avoid bad heading from CMIGITS\n",
      "GW.mask[:,0]  |= (Hdiff > 5.)\n",
      "RWT.mask[:,1] |= (Hdiff > 5.)   \n",
      "GW.mask[:,1]  |= (Hdiff > 5.)\n",
      "RWT.mask[:,2] |= (Hdiff > 5.)  \n",
      "GW.mask[:,2]  |= (Hdiff > 5.)\n",
      "WDL = ma.arctan2 (GW[:,1], GW[:,0]) / Cradeg  # wind direction based on LAMS\n",
      "WDL[WDL < 0.] += 360.\n",
      "WDL[WDL > 360.] -= 360.\n",
      "WSL = ma.array ((GW[:,0]**2 + GW[:,1]**2)**0.5, fill_value=-32767.)\n",
      "#WSL = ma.masked_where ((GW.mask[:,0] | GW.mask[:,1]), WSL)\n",
      "WDL.data[WDL.mask] = -32767.\n",
      "WSL.data[WSL.mask] = -32767.\n",
      "GW.data[GW.mask[:,2],2] = -32767.\n",
      "if len (Shape) < 2:\n",
      "    ULAMSCDF[:] = RWT[:,0].data\n",
      "    VLAMSCDF[:] = RWT[:,1].data \n",
      "    WLAMSCDF[:] = RWT[:,2].data\n",
      "    WDLAMSCDF[:] = ma.array (WDL, fill_value=-32767.).data\n",
      "    WSLAMSCDF[:] = ma.array (WSL, fill_value=-32767.).data\n",
      "    WILAMSCDF[:] = GW[:,2].data\n",
      "else:\n",
      "    ULAMSCDF[:] = RWT[:,0].data.reshape (DLEN, Shape[1])\n",
      "    VLAMSCDF[:] = RWT[:,1].data.reshape (DLEN, Shape[1]) \n",
      "    WLAMSCDF[:] = RWT[:,2].data.reshape (DLEN, Shape[1])\n",
      "    WDLAMSCDF[:] = ma.array (WDL, fill_value=-32767.).data.reshape (DLEN, Shape[1])\n",
      "    WSLAMSCDF[:] = ma.array (WSL, fill_value=-32767.).data.reshape (DLEN, Shape[1])\n",
      "    WILAMSCDF[:] = GW[:,2].data.reshape (DLEN, Shape[1])\n",
      "\n",
      "netCDFfile.close () # writes the netCDF file\n",
      "print 'Elapsed time: ', time.time () - Stime, ' s'\n",
      "print 'Reached end of routine at ', time.asctime(time.localtime(time.time()))\n"
     ],
     "language": "python",
     "metadata": {},
     "outputs": [
      {
       "output_type": "stream",
       "stream": "stdout",
       "text": [
        "Elapsed time:  156.052433014  s\n",
        "Reached end of routine at  Mon Oct 14 04:49:11 2013\n"
       ]
      }
     ],
     "prompt_number": 31
    },
    {
     "cell_type": "heading",
     "level": 2,
     "metadata": {},
     "source": [
      "Find how the results differ from the starting values"
     ]
    },
    {
     "cell_type": "code",
     "collapsed": false,
     "input": [
      "# now get standard deviations of the differences between the radome-based and LAMS-based wind components:\n",
      "UDiff = RWT[:,0] - RWR[:,0]\n",
      "VDiff = RWT[:,1] - RWR[:,1]\n",
      "WDiff = RWT[:,2] - RWR[:,2]\n",
      "# not sure if the following protection against NAN is still needed with masked arrays... \n",
      "print (' u standard deviation is ', np.std(UDiff[np.isnan(UDiff) ==  False]))    # must remove missing values \n",
      "print (' v standard deviation is ', np.std(VDiff[np.isnan(VDiff) ==  False]))    # to avoid FP exception\n",
      "print (' w standard deviation is ', np.std(WDiff[np.isnan(WDiff) ==  False]))\n",
      "#i = np.unravel_index (UD.argmax (), UD.shape) # find the maximum value (or replace with argmin() for min)"
     ],
     "language": "python",
     "metadata": {},
     "outputs": [
      {
       "output_type": "stream",
       "stream": "stdout",
       "text": [
        "(' u standard deviation is ', 3.1296096469120007)\n",
        "(' v standard deviation is ', 4.0791718622247242)\n",
        "(' w standard deviation is ', 4.665618703197226)\n"
       ]
      }
     ],
     "prompt_number": 32
    },
    {
     "cell_type": "heading",
     "level": 2,
     "metadata": {},
     "source": [
      "The following cells are temporary work space and can be deleted or changed"
     ]
    },
    {
     "cell_type": "raw",
     "metadata": {},
     "source": [
      "# to use, change from 'raw text' to 'code', or vv to skip\n",
      "Fig=figure()\n",
      "Fig.subplots_adjust(hspace=0.35)\n",
      "Panel1 = Fig.add_subplot (211)\n",
      "RG = arange (137125,137625)\n",
      "plot (ROLL[RG], label='ROLL')\n",
      "plot (CROLL[RG], label='CROLL')\n",
      "legend ()\n",
      "RG2 = arange (137126,137626)\n",
      "Panel2=Fig.add_subplot (212)\n",
      "plot (ROLL[RG]-CROLL[RG], label='no adjustment')\n",
      "ylabel('ROLL-CROLL')\n",
      "plot (ROLL[RG]-CROLL[RG2], color='r', label='CROLL+1')\n",
      "ylabel('ROLL-CROLL')\n",
      "legend(loc=4)\n",
      "show()\n"
     ]
    },
    {
     "cell_type": "raw",
     "metadata": {},
     "source": [
      "# find the delay giving the best correlation:\n",
      "start = 124500\n",
      "end = start + 30000\n",
      "RG = arange(start, end)\n",
      "for i in range (-25,25):\n",
      "    RG2 = arange(start+i, end+i)\n",
      "    correlation = np.corrcoef (ROLL[RG], CROLL[RG2])\n",
      "    print i,correlation[0,1]\n"
     ]
    },
    {
     "cell_type": "code",
     "collapsed": false,
     "input": [
      "1.92730308-361.88916016"
     ],
     "language": "python",
     "metadata": {},
     "outputs": [
      {
       "output_type": "pyout",
       "prompt_number": 19,
       "text": [
        "-359.96185708"
       ]
      }
     ],
     "prompt_number": 19
    },
    {
     "cell_type": "code",
     "collapsed": false,
     "input": [],
     "language": "python",
     "metadata": {},
     "outputs": [],
     "prompt_number": 32
    }
   ],
   "metadata": {}
  }
 ]
}